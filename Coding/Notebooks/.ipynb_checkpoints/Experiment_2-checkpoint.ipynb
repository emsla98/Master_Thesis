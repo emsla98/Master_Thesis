{
 "cells": [
  {
   "cell_type": "markdown",
   "metadata": {},
   "source": [
    "# Experiment 2: PCA on small dataset (Surface Elevation)\n",
    "\n",
    "The small dataset contains 1 week of samples.\n",
    "\n",
    "Takeaways:\n",
    "* Few axes are needed to explain the variance of the data.\n"
   ]
  },
  {
   "cell_type": "markdown",
   "metadata": {},
   "source": [
    "## Imports"
   ]
  },
  {
   "cell_type": "code",
   "execution_count": 1,
   "metadata": {},
   "outputs": [],
   "source": [
    "# Import packages:\n",
    "import mikeio\n",
    "import matplotlib.pyplot as plt\n",
    "import matplotlib.animation as animation\n",
    "import numpy as np\n",
    "import os\n",
    "import sys\n",
    "\n",
    "sys.path.append(\"../\")\n",
    "plt.style.use(\"seaborn-v0_8-whitegrid\")\n",
    "\n",
    "from Scripts import my_functions as mf\n",
    "\n",
    "from sklearn.preprocessing import StandardScaler\n",
    "from sklearn.decomposition import PCA\n",
    "from IPython.display import HTML\n",
    "from tqdm import tqdm"
   ]
  },
  {
   "cell_type": "markdown",
   "metadata": {},
   "source": [
    "## Data Extraction"
   ]
  },
  {
   "cell_type": "code",
   "execution_count": 2,
   "metadata": {},
   "outputs": [],
   "source": [
    "## Find the relative path to Data/DHI_wk_sim/Area.dfsu from current directory:\n",
    "\n",
    "# Go up two levels from current directory:\n",
    "path = os.path.abspath(os.path.join(os.getcwd(), os.pardir, os.pardir))\n",
    "\n",
    "# Overwrite path:\n",
    "path = os.path.join(path, \"Data/DHI_wk_sim/Area.dfsu\")\n",
    "\n",
    "# Get first and last time step:\n",
    "time = mikeio.open(path).time\n",
    "\n",
    "# Load data:\n",
    "data = mikeio.read(path,\n",
    "                   time=slice(time[48], time[-1]))"
   ]
  },
  {
   "cell_type": "code",
   "execution_count": 3,
   "metadata": {},
   "outputs": [
    {
     "data": {
      "text/plain": [
       "<mikeio.Dataset>\n",
       "dims: (time:353, element:17980)\n",
       "time: 1996-12-19 00:00:00 - 1996-12-26 08:00:00 (353 records)\n",
       "geometry: Dfsu2D (17980 elements, 10460 nodes)\n",
       "items:\n",
       "  0:  Surface elevation <Surface Elevation> (meter)\n",
       "  1:  Total water depth <Water Depth> (meter)\n",
       "  2:  U velocity <u velocity component> (meter per sec)\n",
       "  3:  V velocity <v velocity component> (meter per sec)"
      ]
     },
     "execution_count": 3,
     "metadata": {},
     "output_type": "execute_result"
    }
   ],
   "source": [
    "data"
   ]
  },
  {
   "cell_type": "code",
   "execution_count": 4,
   "metadata": {},
   "outputs": [],
   "source": [
    "# Get surface elevation values:\n",
    "data_vals = data.Surface_elevation.values\n",
    "\n",
    "# Scale features:\n",
    "scaler = StandardScaler().fit(data_vals)\n",
    "\n",
    "# Transform features:\n",
    "data_vals_scaled = scaler.transform(data_vals)\n"
   ]
  },
  {
   "cell_type": "markdown",
   "metadata": {},
   "source": [
    "## PCA"
   ]
  },
  {
   "cell_type": "code",
   "execution_count": 5,
   "metadata": {},
   "outputs": [],
   "source": [
    "# Create PCA object:\n",
    "pca = PCA().fit(data_vals_scaled)"
   ]
  },
  {
   "cell_type": "markdown",
   "metadata": {},
   "source": [
    "### Explained Variance\n",
    "Since the data has been standardized, we will use the number of eigenvalues \n",
    "greater than 1 as the number of axes to keep in the PCA."
   ]
  },
  {
   "cell_type": "code",
   "execution_count": 6,
   "metadata": {},
   "outputs": [
    {
     "data": {
      "image/png": "[encoded data removed]",
      "text/plain": [
       "<Figure size 540x360 with 1 Axes>"
      ]
     },
     "metadata": {
      "needs_background": "light"
     },
     "output_type": "display_data"
    }
   ],
   "source": [
    "# Plot the PCA E.V.R:\n",
    "fig1 = plt.figure(figsize=(7.5,5))\n",
    "pca_x_ticks = np.arange(1, pca.n_components_+1, 1)\n",
    "plt.plot(pca_x_ticks,\n",
    "         np.cumsum(pca.explained_variance_ratio_),\n",
    "         \"o\",\n",
    "         linestyle=\"dashed\",\n",
    "         color=\"red\")\n",
    "\n",
    "plt.plot(pca_x_ticks,\n",
    "         pca.explained_variance_ratio_,\n",
    "         \"o\",\n",
    "         linestyle=\"dotted\",\n",
    "         color=\"blue\")\n",
    "\n",
    "pc_keep = np.sum(pca.explained_variance_ > 1)\n",
    "\n",
    "plt.vlines(pc_keep, 0, 1, colors=\"black\", linestyles=\"dashed\")\n",
    "\n",
    "plt.xscale(\"symlog\")\n",
    "plt.xlabel(\"Number of components\")\n",
    "plt.ylabel(\"Explained variance ratio\")\n",
    "\n",
    "pca_x_gridlines = np.array([2**i for i in range(10)])\n",
    "\n",
    "plt.xticks(pca_x_gridlines,\n",
    "           [str(pca_x_gridlines[i]) \\\n",
    "            for i in range(len(pca_x_gridlines))])\n",
    "\n",
    "\n",
    "# Set legend:\n",
    "plt.legend([\"Cumulative\", \"Individual\", f\"PC cutoff ({pc_keep})\"],\n",
    "                 loc=\"best\", frameon=True, fancybox=True,\n",
    "                 shadow=True, framealpha=1, facecolor=\"lightgrey\")\n",
    "\n",
    "plt.title(f\"PCA explained variance ratio. \")\n",
    "plt.show()"
   ]
  },
  {
   "cell_type": "code",
   "execution_count": 7,
   "metadata": {},
   "outputs": [],
   "source": [
    "# Save figure:\n",
    "fig1.savefig(\"../Figures/Exp_2_small_PCA_EVR.png\")"
   ]
  },
  {
   "cell_type": "markdown",
   "metadata": {},
   "source": [
    "### Reconstruction vs Original"
   ]
  },
  {
   "cell_type": "code",
   "execution_count": 8,
   "metadata": {},
   "outputs": [],
   "source": [
    "# Choose principal components:\n",
    "princomps = pca.components_[:pc_keep]\n",
    "\n",
    "# Transform features:\n",
    "data_vals_scaled_pca = data_vals_scaled @ princomps.T\n",
    "\n",
    "# Reconstruct features:\n",
    "data_vals_scaled_recon = data_vals_scaled_pca @ princomps\n",
    "\n",
    "# Rescale features:\n",
    "data_vals_recon = scaler.inverse_transform(data_vals_scaled_recon)\n"
   ]
  },
  {
   "cell_type": "code",
   "execution_count": null,
   "metadata": {},
   "outputs": [],
   "source": [
    "# Select plot times and plot data:\n",
    "plot_times = [12, 22]\n",
    "plot_data = data_vals[plot_times]\n",
    "plot_data_recon = data_vals_recon[plot_times]\n",
    "\n",
    "plot_obj = data.Surface_elevation[0].copy()\n",
    "plot_rec_obj = data.Surface_elevation[0].copy()\n",
    "\n",
    "# Create 2 by 3 subplot:\n",
    "fig2, axs = plt.subplots(2, 3, figsize=(15, 10))\n",
    "\n",
    "# Loop over the two times:\n",
    "for t in range(len(plot_times)):\n",
    "\n",
    "    # Plot the original data:\n",
    "    plot_obj.values = plot_data[t]\n",
    "    \n",
    "    cmap_max = np.quantile(np.abs(plot_obj.values), 0.99)\n",
    "    digits = np.sum([cmap_max * (10**i) < 1 for i in range(5)])\n",
    "    cmap_max = np.round(cmap_max, digits)\n",
    "    \n",
    "    plot_obj.plot(ax=axs[t,0], cmap=\"seismic\",\n",
    "                vmin = -cmap_max, vmax = cmap_max)\n",
    "    axs[t,0].set_title(f\"Original data @ Time: {plot_times[t]}\")\n",
    "\n",
    "    # Plot the reconstructed data:\n",
    "    plot_rec_obj.values = plot_data_recon[t]\n",
    "    \n",
    "    cmap_max = np.quantile(np.abs(plot_rec_obj.values), 0.99)\n",
    "    digits = np.sum([cmap_max * (10**i) < 1 for i in range(5)])\n",
    "    cmap_max = np.round(cmap_max, digits)\n",
    "    \n",
    "    plot_rec_obj.plot(ax=axs[t,1], cmap=\"seismic\",\n",
    "                    vmin = -cmap_max, vmax = cmap_max)\n",
    "    axs[t,1].set_title(\n",
    "        f\"Reconstructed data @ Time: {plot_times[t]}\")\n",
    "\n",
    "    # Compute the RMSE:\n",
    "    rmse_diff = mf.rmse(plot_data[t], plot_data_recon[t])\n",
    "    \n",
    "    # Plot the difference:\n",
    "    plot_obj.values = plot_data[t] - plot_data_recon[t]\n",
    "    \n",
    "    cmap_max = np.quantile(np.abs(plot_obj.values), 0.99)\n",
    "    digits = np.sum([cmap_max * (10**i) < 1 for i in range(5)])\n",
    "    cmap_max = np.round(cmap_max, digits)\n",
    "    \n",
    "    plot_obj.plot(ax=axs[t,2], cmap=\"seismic\",\n",
    "    vmin = -cmap_max, vmax = cmap_max)\n",
    "    axs[t,2].set_title(f\"Difference.\\nRMSE: {rmse_diff:.6f}\")\n",
    "\n",
    "fig2.suptitle(f\"PCA ({pc_keep}-PC) reconstruction comparison\\n\",\n",
    "              fontsize=16)\n",
    "\n",
    "fig2.tight_layout()\n",
    "\n",
    "plt.show()\n"
   ]
  },
  {
   "cell_type": "code",
   "execution_count": null,
   "metadata": {},
   "outputs": [],
   "source": [
    "fig2.savefig(f\"../Figures/Exp_2_small_PCA_{pc_keep}PC_comparison.png\", dpi=100)"
   ]
  },
  {
   "cell_type": "code",
   "execution_count": null,
   "metadata": {},
   "outputs": [],
   "source": []
  }
 ],
 "metadata": {
  "kernelspec": {
   "display_name": "Python 3 (ipykernel)",
   "language": "python",
   "name": "python3"
  },
  "language_info": {
   "codemirror_mode": {
    "name": "ipython",
    "version": 3
   },
   "file_extension": ".py",
   "mimetype": "text/x-python",
   "name": "python",
   "nbconvert_exporter": "python",
   "pygments_lexer": "ipython3",
   "version": "3.10.0"
  }
 },
 "nbformat": 4,
 "nbformat_minor": 2
}
